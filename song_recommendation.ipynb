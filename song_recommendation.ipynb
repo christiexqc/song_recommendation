{
 "cells": [
  {
   "cell_type": "code",
   "execution_count": null,
   "metadata": {},
   "outputs": [],
   "source": [
    "# %matplotlib inline\n",
    "import numpy as np\n",
    "import scipy\n",
    "import pandas as pd\n",
    "import matplotlib.pyplot as plt\n",
    "#import statsmodels.formula.api as sm\n",
    "import seaborn as sns\n",
    "import sklearn as sl\n",
    "from sklearn import preprocessing\n",
    "import warnings\n",
    "warnings.filterwarnings('ignore')\n",
    "pd.set_option('display.max_columns', 20)\n",
    "pd.set_option('display.width', 350)"
   ]
  },
  {
   "cell_type": "markdown",
   "metadata": {},
   "source": [
    "# Import Data"
   ]
  },
  {
   "cell_type": "code",
   "execution_count": 3,
   "metadata": {},
   "outputs": [],
   "source": [
    "data=pd.read_json('./dataset/song.json')"
   ]
  },
  {
   "cell_type": "code",
   "execution_count": 4,
   "metadata": {},
   "outputs": [
    {
     "data": {
      "text/html": [
       "<div>\n",
       "<style scoped>\n",
       "    .dataframe tbody tr th:only-of-type {\n",
       "        vertical-align: middle;\n",
       "    }\n",
       "\n",
       "    .dataframe tbody tr th {\n",
       "        vertical-align: top;\n",
       "    }\n",
       "\n",
       "    .dataframe thead th {\n",
       "        text-align: right;\n",
       "    }\n",
       "</style>\n",
       "<table border=\"1\" class=\"dataframe\">\n",
       "  <thead>\n",
       "    <tr style=\"text-align: right;\">\n",
       "      <th></th>\n",
       "      <th>id</th>\n",
       "      <th>user_id</th>\n",
       "      <th>user_state</th>\n",
       "      <th>user_sign_up_date</th>\n",
       "      <th>song_played</th>\n",
       "      <th>time_played</th>\n",
       "    </tr>\n",
       "  </thead>\n",
       "  <tbody>\n",
       "    <tr>\n",
       "      <th>0</th>\n",
       "      <td>GOQMMKSQQH</td>\n",
       "      <td>122</td>\n",
       "      <td>Louisiana</td>\n",
       "      <td>2015-05-16</td>\n",
       "      <td>Hey Jude</td>\n",
       "      <td>2015-06-11 21:51:35</td>\n",
       "    </tr>\n",
       "    <tr>\n",
       "      <th>1</th>\n",
       "      <td>HWKKBQKNWI</td>\n",
       "      <td>3</td>\n",
       "      <td>Ohio</td>\n",
       "      <td>2015-05-01</td>\n",
       "      <td>We Can Work It Out</td>\n",
       "      <td>2015-06-06 16:49:19</td>\n",
       "    </tr>\n",
       "    <tr>\n",
       "      <th>2</th>\n",
       "      <td>DKQSXVNJDH</td>\n",
       "      <td>35</td>\n",
       "      <td>New Jersey</td>\n",
       "      <td>2015-05-04</td>\n",
       "      <td>Back In the U.S.S.R.</td>\n",
       "      <td>2015-06-14 02:11:29</td>\n",
       "    </tr>\n",
       "    <tr>\n",
       "      <th>3</th>\n",
       "      <td>HLHRIDQTUW</td>\n",
       "      <td>126</td>\n",
       "      <td>Illinois</td>\n",
       "      <td>2015-05-16</td>\n",
       "      <td>P.s. I Love You</td>\n",
       "      <td>2015-06-08 12:26:10</td>\n",
       "    </tr>\n",
       "    <tr>\n",
       "      <th>4</th>\n",
       "      <td>SUKJCSBCYW</td>\n",
       "      <td>6</td>\n",
       "      <td>New Jersey</td>\n",
       "      <td>2015-05-01</td>\n",
       "      <td>Sgt. Pepper's Lonely Hearts Club Band</td>\n",
       "      <td>2015-06-28 14:57:00</td>\n",
       "    </tr>\n",
       "  </tbody>\n",
       "</table>\n",
       "</div>"
      ],
      "text/plain": [
       "           id  user_id  user_state user_sign_up_date                            song_played          time_played\n",
       "0  GOQMMKSQQH      122   Louisiana        2015-05-16                               Hey Jude  2015-06-11 21:51:35\n",
       "1  HWKKBQKNWI        3        Ohio        2015-05-01                     We Can Work It Out  2015-06-06 16:49:19\n",
       "2  DKQSXVNJDH       35  New Jersey        2015-05-04                   Back In the U.S.S.R.  2015-06-14 02:11:29\n",
       "3  HLHRIDQTUW      126    Illinois        2015-05-16                        P.s. I Love You  2015-06-08 12:26:10\n",
       "4  SUKJCSBCYW        6  New Jersey        2015-05-01  Sgt. Pepper's Lonely Hearts Club Band  2015-06-28 14:57:00"
      ]
     },
     "execution_count": 4,
     "metadata": {},
     "output_type": "execute_result"
    }
   ],
   "source": [
    "data.head()"
   ]
  },
  {
   "cell_type": "code",
   "execution_count": 5,
   "metadata": {},
   "outputs": [
    {
     "data": {
      "text/plain": [
       "(4000, 6)"
      ]
     },
     "execution_count": 5,
     "metadata": {},
     "output_type": "execute_result"
    }
   ],
   "source": [
    "data.shape"
   ]
  },
  {
   "cell_type": "code",
   "execution_count": 6,
   "metadata": {},
   "outputs": [],
   "source": [
    "#fixing dates\n",
    "data['time_played']=  pd.to_datetime(data['time_played'], format='%Y-%m-%d %H:%M:%S')\n",
    "data['user_sign_up_date'] = pd.to_datetime(data['user_sign_up_date'], format='%Y-%m-%d')"
   ]
  },
  {
   "cell_type": "code",
   "execution_count": 7,
   "metadata": {},
   "outputs": [
    {
     "data": {
      "text/html": [
       "<div>\n",
       "<style scoped>\n",
       "    .dataframe tbody tr th:only-of-type {\n",
       "        vertical-align: middle;\n",
       "    }\n",
       "\n",
       "    .dataframe tbody tr th {\n",
       "        vertical-align: top;\n",
       "    }\n",
       "\n",
       "    .dataframe thead th {\n",
       "        text-align: right;\n",
       "    }\n",
       "</style>\n",
       "<table border=\"1\" class=\"dataframe\">\n",
       "  <thead>\n",
       "    <tr style=\"text-align: right;\">\n",
       "      <th></th>\n",
       "      <th>id</th>\n",
       "      <th>user_id</th>\n",
       "      <th>user_state</th>\n",
       "      <th>user_sign_up_date</th>\n",
       "      <th>song_played</th>\n",
       "      <th>time_played</th>\n",
       "    </tr>\n",
       "  </thead>\n",
       "  <tbody>\n",
       "    <tr>\n",
       "      <th>0</th>\n",
       "      <td>GOQMMKSQQH</td>\n",
       "      <td>122</td>\n",
       "      <td>Louisiana</td>\n",
       "      <td>2015-05-16</td>\n",
       "      <td>Hey Jude</td>\n",
       "      <td>2015-06-11 21:51:35</td>\n",
       "    </tr>\n",
       "    <tr>\n",
       "      <th>1</th>\n",
       "      <td>HWKKBQKNWI</td>\n",
       "      <td>3</td>\n",
       "      <td>Ohio</td>\n",
       "      <td>2015-05-01</td>\n",
       "      <td>We Can Work It Out</td>\n",
       "      <td>2015-06-06 16:49:19</td>\n",
       "    </tr>\n",
       "    <tr>\n",
       "      <th>2</th>\n",
       "      <td>DKQSXVNJDH</td>\n",
       "      <td>35</td>\n",
       "      <td>New Jersey</td>\n",
       "      <td>2015-05-04</td>\n",
       "      <td>Back In the U.S.S.R.</td>\n",
       "      <td>2015-06-14 02:11:29</td>\n",
       "    </tr>\n",
       "    <tr>\n",
       "      <th>3</th>\n",
       "      <td>HLHRIDQTUW</td>\n",
       "      <td>126</td>\n",
       "      <td>Illinois</td>\n",
       "      <td>2015-05-16</td>\n",
       "      <td>P.s. I Love You</td>\n",
       "      <td>2015-06-08 12:26:10</td>\n",
       "    </tr>\n",
       "    <tr>\n",
       "      <th>4</th>\n",
       "      <td>SUKJCSBCYW</td>\n",
       "      <td>6</td>\n",
       "      <td>New Jersey</td>\n",
       "      <td>2015-05-01</td>\n",
       "      <td>Sgt. Pepper's Lonely Hearts Club Band</td>\n",
       "      <td>2015-06-28 14:57:00</td>\n",
       "    </tr>\n",
       "  </tbody>\n",
       "</table>\n",
       "</div>"
      ],
      "text/plain": [
       "           id  user_id  user_state user_sign_up_date                            song_played         time_played\n",
       "0  GOQMMKSQQH      122   Louisiana        2015-05-16                               Hey Jude 2015-06-11 21:51:35\n",
       "1  HWKKBQKNWI        3        Ohio        2015-05-01                     We Can Work It Out 2015-06-06 16:49:19\n",
       "2  DKQSXVNJDH       35  New Jersey        2015-05-04                   Back In the U.S.S.R. 2015-06-14 02:11:29\n",
       "3  HLHRIDQTUW      126    Illinois        2015-05-16                        P.s. I Love You 2015-06-08 12:26:10\n",
       "4  SUKJCSBCYW        6  New Jersey        2015-05-01  Sgt. Pepper's Lonely Hearts Club Band 2015-06-28 14:57:00"
      ]
     },
     "execution_count": 7,
     "metadata": {},
     "output_type": "execute_result"
    }
   ],
   "source": [
    "data.head()"
   ]
  },
  {
   "cell_type": "code",
   "execution_count": 8,
   "metadata": {},
   "outputs": [
    {
     "data": {
      "text/plain": [
       "id                           object\n",
       "user_id                       int64\n",
       "user_state                   object\n",
       "user_sign_up_date    datetime64[ns]\n",
       "song_played                  object\n",
       "time_played          datetime64[ns]\n",
       "dtype: object"
      ]
     },
     "execution_count": 8,
     "metadata": {},
     "output_type": "execute_result"
    }
   ],
   "source": [
    "data.dtypes"
   ]
  },
  {
   "cell_type": "code",
   "execution_count": 9,
   "metadata": {},
   "outputs": [
    {
     "data": {
      "text/plain": [
       "array(['Hey Jude', 'We Can Work It Out', 'Back In the U.S.S.R.',\n",
       "       'P.s. I Love You', \"Sgt. Pepper's Lonely Hearts Club Band\",\n",
       "       'Sgt. Pepper Inner Groove', 'Hello Goodbye', 'Cry For A Shadow',\n",
       "       'Revolution', 'Let It Be', 'I Feel Fine', 'The Fool On The Hill',\n",
       "       'Get Back', 'Come Together', 'She Loves You',\n",
       "       'While My Guitar Gently Weeps', 'Here Comes The Sun',\n",
       "       'A Day In The Life', 'Getting Better', \"Baby You're A Rich Man\",\n",
       "       'The Ballad Of John And Yoko', 'Lucy In The Sky With Diamonds',\n",
       "       \"Don't Let Me Down\", 'Reprise / Day in the Life',\n",
       "       \"Maxwell's Silver Hammer\", 'Across The Universe',\n",
       "       'Ob-la-di, Ob-la-da', 'Yesterday', 'Fixing A Hole', 'OH DARLING',\n",
       "       'Birthday', 'A Saturday Club Xmas/Crimble Medley',\n",
       "       'Got To Get You Into My Life', 'Wild Honey Pie', 'IN MY LIFE',\n",
       "       'Strawberry Fields Forever', 'Twist and Shout',\n",
       "       'I Saw Her Standing There', 'Helter Skelter', 'Something',\n",
       "       'Eleanor Rigby', 'Things We Said Today',\n",
       "       'With a Little Help From My Friends',\n",
       "       'You Never Give Me Your Money', 'YOUR MOTHER SHOULD KNOW',\n",
       "       'The Long And Winding Road', 'Sun King', \"I've Got A Feeling\",\n",
       "       'Eight Days A Week', 'Day Tripper', 'Roll Over Beethoven',\n",
       "       'I Am the Walrus', 'Lady Madonna', 'Good Day Sunshine',\n",
       "       'Blackbird', 'ROCK AND ROLL MUSIC', \"Can't Buy Me Love\",\n",
       "       'Golden Slumbers', 'Magical Mystery Tour',\n",
       "       \"I Want You (She's So Heavy)\", \"She's Leaving Home\",\n",
       "       'Yellow Submarine', 'THE CONTINUING STORY OF BUNG', 'BAD BOY',\n",
       "       \"A Hard Day's Night\", 'All My Loving',\n",
       "       \"You're Going To Lose That Girl\",\n",
       "       \"Everybody's Got Something To Hide Except Me And My Monk\",\n",
       "       'Ticket to Ride', 'Drive My Car', 'The Word', \"I'm A Loser\",\n",
       "       'Help!', 'Dear Prudence', 'All You Need Is Love',\n",
       "       'Paperback Writer', \"I'll Follow The Sun\", 'Rocky Raccoon',\n",
       "       'NOWHERE MAN', \"Sgt. Pepper's Lonely Hearts Club Band (Reprise)\",\n",
       "       \"I've Just Seen A Face\", 'Penny Lane', \"SHE'S A WOMAN\",\n",
       "       'And Your Bird Can Sing', 'Two Of Us', 'From Me To You',\n",
       "       'Please Please Me', 'GIRL', \"IT WON'T BE LONG\", 'Norwegian Wood',\n",
       "       'Love Me Do', 'I Want To Hold Your Hand', 'LITTLE CHILD',\n",
       "       'ANYTIME AT ALL', \"I'm Down\", 'Lovely Rita', \"When I'm 64\"],\n",
       "      dtype=object)"
      ]
     },
     "execution_count": 9,
     "metadata": {},
     "output_type": "execute_result"
    }
   ],
   "source": [
    "data.song_played.unique()"
   ]
  },
  {
   "cell_type": "markdown",
   "metadata": {},
   "source": [
    "# Data Analysis"
   ]
  },
  {
   "cell_type": "code",
   "execution_count": 10,
   "metadata": {},
   "outputs": [],
   "source": [
    "#since songs are characters, let's just make them all lower case, just in case we have some in upper case and some lower. With more time, we would dig deeper to see if there are perhaps cases in which the same song is spelled differently\n",
    "data['song_played'] = data['song_played'].str.lower()"
   ]
  },
  {
   "cell_type": "markdown",
   "metadata": {},
   "source": [
    "Q: What are the top 3 and the bottom 3 states in terms number of users?\n",
    "\n",
    "There are two ways to interpret this question. One option is considering all 50 US states. The other option is considering only the states that have at least 1 user. We will answer the question both ways.\n"
   ]
  },
  {
   "cell_type": "code",
   "execution_count": 12,
   "metadata": {},
   "outputs": [
    {
     "name": "stdout",
     "output_type": "stream",
     "text": [
      "For 9 states we have no users\n",
      "user_state\n",
      "New York      23\n",
      "California    21\n",
      "Texas         15\n",
      "Name: user_id, dtype: int64\n"
     ]
    }
   ],
   "source": [
    "#From how many states we have at least one user?\n",
    "print(\"For\", 50 - data['user_state'].nunique(), \"states we have no users\")\n",
    "#Count # users per state \n",
    "data_state_count = data.groupby('user_state').user_id.nunique()\n",
    " \n",
    "#Top 3 states\n",
    "print(data_state_count.nlargest(3, keep='all'))\n"
   ]
  },
  {
   "cell_type": "code",
   "execution_count": 14,
   "metadata": {},
   "outputs": [
    {
     "data": {
      "text/plain": [
       "user_state\n",
       "New York      23\n",
       "California    21\n",
       "Texas         15\n",
       "Name: user_id, dtype: int64"
      ]
     },
     "execution_count": 14,
     "metadata": {},
     "output_type": "execute_result"
    }
   ],
   "source": [
    "data_state_count.nlargest(3, keep='last')"
   ]
  },
  {
   "cell_type": "code",
   "execution_count": 15,
   "metadata": {},
   "outputs": [
    {
     "data": {
      "text/plain": [
       "user_state\n",
       "Arizona         1\n",
       "Connecticut     1\n",
       "Idaho           1\n",
       "Iowa            1\n",
       "Kansas          1\n",
       "Nebraska        1\n",
       "New Mexico      1\n",
       "North Dakota    1\n",
       "Rhode Island    1\n",
       "Name: user_id, dtype: int64"
      ]
     },
     "execution_count": 15,
     "metadata": {},
     "output_type": "execute_result"
    }
   ],
   "source": [
    "#Bottom 3 only including states for which we have at least 1 user\n",
    "data_state_count.nsmallest(3, keep='all')"
   ]
  },
  {
   "cell_type": "code",
   "execution_count": 17,
   "metadata": {},
   "outputs": [],
   "source": [
    "all_states = [\n",
    "         'Alabama','Alaska','Arizona','Arkansas','California','Colorado',\n",
    "         'Connecticut','Delaware','Florida','Georgia','Hawaii','Idaho', \n",
    "         'Illinois','Indiana','Iowa','Kansas','Kentucky','Louisiana',\n",
    "         'Maine', 'Maryland','Massachusetts','Michigan','Minnesota',\n",
    "         'Mississippi', 'Missouri','Montana','Nebraska','Nevada',\n",
    "         'New Hampshire','New Jersey','New Mexico','New York',\n",
    "         'North Carolina','North Dakota','Ohio',    \n",
    "         'Oklahoma','Oregon','Pennsylvania','Rhode Island',\n",
    "         'South Carolina','South Dakota','Tennessee','Texas','Utah',\n",
    "         'Vermont','Virginia','Washington','West Virginia',\n",
    "         'Wisconsin','Wyoming'\n",
    "    ]"
   ]
  },
  {
   "cell_type": "code",
   "execution_count": 18,
   "metadata": {},
   "outputs": [
    {
     "name": "stdout",
     "output_type": "stream",
     "text": [
      "True\n"
     ]
    }
   ],
   "source": [
    "#Check string format is same for our dataset and all_states\n",
    "print(len(np.intersect1d(data['user_state'].unique(), all_states))==data['user_state'].nunique())"
   ]
  },
  {
   "cell_type": "code",
   "execution_count": 19,
   "metadata": {},
   "outputs": [
    {
     "name": "stdout",
     "output_type": "stream",
     "text": [
      "The following 9 states have no users:  ['Delaware' 'Hawaii' 'Maine' 'Montana' 'Nevada' 'New Hampshire'\n",
      " 'South Dakota' 'Vermont' 'Wyoming']\n"
     ]
    }
   ],
   "source": [
    "#Now let's find the 9 missing states\n",
    "print(\"The following\", len(np.setxor1d(data['user_state'].unique(), all_states))  ,\"states have no users: \", np.setxor1d(data['user_state'].unique(), all_states))\n"
   ]
  },
  {
   "cell_type": "markdown",
   "metadata": {},
   "source": [
    "Q: What are the top 3 and the bottom 3 states in terms of user engagement?\n",
    "\n",
    "There are tons of ways to define engagement. This is a very early stage start-ups with low absolute numbers. In this case, you often want a metric that’s sensitive to outliers. After all, outliers mean power users. And the main goal of a small company is identifying where your early power users are and finding more of those people. So we will take avg # of songs listened per user as our metric.\n"
   ]
  },
  {
   "cell_type": "code",
   "execution_count": 21,
   "metadata": {},
   "outputs": [],
   "source": [
    "#create a dataset with avg songs listened per user and count unique users for each state\n",
    "data_engagement = data.groupby(['user_id', 'user_state']).size().reset_index(name='songs_user')\n"
   ]
  },
  {
   "cell_type": "code",
   "execution_count": 22,
   "metadata": {},
   "outputs": [
    {
     "data": {
      "text/html": [
       "<div>\n",
       "<style scoped>\n",
       "    .dataframe tbody tr th:only-of-type {\n",
       "        vertical-align: middle;\n",
       "    }\n",
       "\n",
       "    .dataframe tbody tr th {\n",
       "        vertical-align: top;\n",
       "    }\n",
       "\n",
       "    .dataframe thead th {\n",
       "        text-align: right;\n",
       "    }\n",
       "</style>\n",
       "<table border=\"1\" class=\"dataframe\">\n",
       "  <thead>\n",
       "    <tr style=\"text-align: right;\">\n",
       "      <th></th>\n",
       "      <th>user_id</th>\n",
       "      <th>user_state</th>\n",
       "      <th>songs_user</th>\n",
       "    </tr>\n",
       "  </thead>\n",
       "  <tbody>\n",
       "    <tr>\n",
       "      <th>0</th>\n",
       "      <td>1</td>\n",
       "      <td>Oregon</td>\n",
       "      <td>10</td>\n",
       "    </tr>\n",
       "    <tr>\n",
       "      <th>1</th>\n",
       "      <td>2</td>\n",
       "      <td>North Carolina</td>\n",
       "      <td>18</td>\n",
       "    </tr>\n",
       "    <tr>\n",
       "      <th>2</th>\n",
       "      <td>3</td>\n",
       "      <td>Ohio</td>\n",
       "      <td>18</td>\n",
       "    </tr>\n",
       "    <tr>\n",
       "      <th>3</th>\n",
       "      <td>4</td>\n",
       "      <td>New Mexico</td>\n",
       "      <td>17</td>\n",
       "    </tr>\n",
       "    <tr>\n",
       "      <th>4</th>\n",
       "      <td>5</td>\n",
       "      <td>Alabama</td>\n",
       "      <td>21</td>\n",
       "    </tr>\n",
       "  </tbody>\n",
       "</table>\n",
       "</div>"
      ],
      "text/plain": [
       "   user_id      user_state  songs_user\n",
       "0        1          Oregon          10\n",
       "1        2  North Carolina          18\n",
       "2        3            Ohio          18\n",
       "3        4      New Mexico          17\n",
       "4        5         Alabama          21"
      ]
     },
     "execution_count": 22,
     "metadata": {},
     "output_type": "execute_result"
    }
   ],
   "source": [
    "data_engagement.head()"
   ]
  },
  {
   "cell_type": "code",
   "execution_count": 23,
   "metadata": {},
   "outputs": [],
   "source": [
    "data_engagement = data_engagement.groupby(['user_state']).apply(\n",
    "                    lambda x: pd.Series({\n",
    "                             # avg songs\n",
    "                            'engagement': x['songs_user'].mean(),\n",
    "                             # count unique users \n",
    "                            'count_unique_users': x['user_id'].nunique()\n",
    "  })\n",
    ").reset_index()"
   ]
  },
  {
   "cell_type": "code",
   "execution_count": 24,
   "metadata": {},
   "outputs": [
    {
     "data": {
      "text/html": [
       "<div>\n",
       "<style scoped>\n",
       "    .dataframe tbody tr th:only-of-type {\n",
       "        vertical-align: middle;\n",
       "    }\n",
       "\n",
       "    .dataframe tbody tr th {\n",
       "        vertical-align: top;\n",
       "    }\n",
       "\n",
       "    .dataframe thead th {\n",
       "        text-align: right;\n",
       "    }\n",
       "</style>\n",
       "<table border=\"1\" class=\"dataframe\">\n",
       "  <thead>\n",
       "    <tr style=\"text-align: right;\">\n",
       "      <th></th>\n",
       "      <th>user_state</th>\n",
       "      <th>engagement</th>\n",
       "      <th>count_unique_users</th>\n",
       "    </tr>\n",
       "  </thead>\n",
       "  <tbody>\n",
       "    <tr>\n",
       "      <th>0</th>\n",
       "      <td>Alabama</td>\n",
       "      <td>26.000000</td>\n",
       "      <td>4.0</td>\n",
       "    </tr>\n",
       "    <tr>\n",
       "      <th>1</th>\n",
       "      <td>Alaska</td>\n",
       "      <td>29.000000</td>\n",
       "      <td>2.0</td>\n",
       "    </tr>\n",
       "    <tr>\n",
       "      <th>2</th>\n",
       "      <td>Arizona</td>\n",
       "      <td>22.000000</td>\n",
       "      <td>1.0</td>\n",
       "    </tr>\n",
       "    <tr>\n",
       "      <th>3</th>\n",
       "      <td>Arkansas</td>\n",
       "      <td>17.000000</td>\n",
       "      <td>2.0</td>\n",
       "    </tr>\n",
       "    <tr>\n",
       "      <th>4</th>\n",
       "      <td>California</td>\n",
       "      <td>20.238095</td>\n",
       "      <td>21.0</td>\n",
       "    </tr>\n",
       "  </tbody>\n",
       "</table>\n",
       "</div>"
      ],
      "text/plain": [
       "   user_state  engagement  count_unique_users\n",
       "0     Alabama   26.000000                 4.0\n",
       "1      Alaska   29.000000                 2.0\n",
       "2     Arizona   22.000000                 1.0\n",
       "3    Arkansas   17.000000                 2.0\n",
       "4  California   20.238095                21.0"
      ]
     },
     "execution_count": 24,
     "metadata": {},
     "output_type": "execute_result"
    }
   ],
   "source": [
    "data_engagement.head()"
   ]
  },
  {
   "cell_type": "code",
   "execution_count": 25,
   "metadata": {},
   "outputs": [
    {
     "data": {
      "text/plain": [
       "3.0"
      ]
     },
     "execution_count": 25,
     "metadata": {},
     "output_type": "execute_result"
    }
   ],
   "source": [
    "data_engagement.count_unique_users.median()"
   ]
  },
  {
   "cell_type": "code",
   "execution_count": 26,
   "metadata": {},
   "outputs": [
    {
     "data": {
      "text/plain": [
       "3.0"
      ]
     },
     "execution_count": 26,
     "metadata": {},
     "output_type": "execute_result"
    }
   ],
   "source": [
    "np.median(data_engagement.count_unique_users)"
   ]
  },
  {
   "cell_type": "code",
   "execution_count": 27,
   "metadata": {},
   "outputs": [],
   "source": [
    "#Some states have very few users, so avg won't be particularly meaningful if, for instance, there is just 1 user. Let's only consider states in the top 50% in terms of unique user count\n",
    "data_engagement = data_engagement.loc[data_engagement['count_unique_users'] > np.median(data_engagement.count_unique_users)]"
   ]
  },
  {
   "cell_type": "code",
   "execution_count": 28,
   "metadata": {},
   "outputs": [
    {
     "name": "stdout",
     "output_type": "stream",
     "text": [
      "Top 3 states for user engagement are: \n",
      "         user_state  engagement  count_unique_users\n",
      "0          Alabama   26.000000                 4.0\n",
      "7          Florida   25.714286                 7.0\n",
      "26  North Carolina   25.666667                 6.0\n"
     ]
    }
   ],
   "source": [
    "#Top 3 states\n",
    "print(\"Top 3 states for user engagement are: \\n\", data_engagement.nlargest(3, columns = 'engagement', keep='all'))"
   ]
  },
  {
   "cell_type": "code",
   "execution_count": 29,
   "metadata": {},
   "outputs": [
    {
     "name": "stdout",
     "output_type": "stream",
     "text": [
      "Bottom 3 states for user engagement are: \n",
      "        user_state  engagement  count_unique_users\n",
      "19      Minnesota   10.500000                 4.0\n",
      "11        Indiana   13.750000                 4.0\n",
      "17  Massachusetts   15.166667                 6.0\n"
     ]
    }
   ],
   "source": [
    "#Bottom 3 \n",
    "print(\"Bottom 3 states for user engagement are: \\n\", data_engagement.nsmallest(3, columns = 'engagement', keep='all'))"
   ]
  },
  {
   "cell_type": "markdown",
   "metadata": {},
   "source": [
    "Q: The CEO wants to send a gift to the first user who signed-up for each state. That is, the first user who signed-up from California, from Oregon, etc. Create a list of those users.\n"
   ]
  },
  {
   "cell_type": "code",
   "execution_count": 32,
   "metadata": {},
   "outputs": [],
   "source": [
    "data_min =data[data[[\"user_state\", \"user_id\", \"user_sign_up_date\"]].groupby('user_state')['user_sign_up_date'].transform(min)== data['user_sign_up_date']][[\"user_state\", \"user_id\", \"user_sign_up_date\"]]"
   ]
  },
  {
   "cell_type": "code",
   "execution_count": 33,
   "metadata": {},
   "outputs": [
    {
     "data": {
      "text/html": [
       "<div>\n",
       "<style scoped>\n",
       "    .dataframe tbody tr th:only-of-type {\n",
       "        vertical-align: middle;\n",
       "    }\n",
       "\n",
       "    .dataframe tbody tr th {\n",
       "        vertical-align: top;\n",
       "    }\n",
       "\n",
       "    .dataframe thead th {\n",
       "        text-align: right;\n",
       "    }\n",
       "</style>\n",
       "<table border=\"1\" class=\"dataframe\">\n",
       "  <thead>\n",
       "    <tr style=\"text-align: right;\">\n",
       "      <th></th>\n",
       "      <th>user_state</th>\n",
       "      <th>user_id</th>\n",
       "      <th>user_sign_up_date</th>\n",
       "    </tr>\n",
       "  </thead>\n",
       "  <tbody>\n",
       "    <tr>\n",
       "      <th>1</th>\n",
       "      <td>Ohio</td>\n",
       "      <td>3</td>\n",
       "      <td>2015-05-01</td>\n",
       "    </tr>\n",
       "    <tr>\n",
       "      <th>4</th>\n",
       "      <td>New Jersey</td>\n",
       "      <td>6</td>\n",
       "      <td>2015-05-01</td>\n",
       "    </tr>\n",
       "    <tr>\n",
       "      <th>8</th>\n",
       "      <td>Rhode Island</td>\n",
       "      <td>174</td>\n",
       "      <td>2015-05-19</td>\n",
       "    </tr>\n",
       "    <tr>\n",
       "      <th>18</th>\n",
       "      <td>Pennsylvania</td>\n",
       "      <td>11</td>\n",
       "      <td>2015-05-02</td>\n",
       "    </tr>\n",
       "    <tr>\n",
       "      <th>24</th>\n",
       "      <td>Missouri</td>\n",
       "      <td>85</td>\n",
       "      <td>2015-05-09</td>\n",
       "    </tr>\n",
       "  </tbody>\n",
       "</table>\n",
       "</div>"
      ],
      "text/plain": [
       "      user_state  user_id user_sign_up_date\n",
       "1           Ohio        3        2015-05-01\n",
       "4     New Jersey        6        2015-05-01\n",
       "8   Rhode Island      174        2015-05-19\n",
       "18  Pennsylvania       11        2015-05-02\n",
       "24      Missouri       85        2015-05-09"
      ]
     },
     "execution_count": 33,
     "metadata": {},
     "output_type": "execute_result"
    }
   ],
   "source": [
    "data_min.head()"
   ]
  },
  {
   "cell_type": "code",
   "execution_count": 34,
   "metadata": {},
   "outputs": [
    {
     "data": {
      "text/plain": [
       "(1005, 3)"
      ]
     },
     "execution_count": 34,
     "metadata": {},
     "output_type": "execute_result"
    }
   ],
   "source": [
    "data_min.shape"
   ]
  },
  {
   "cell_type": "code",
   "execution_count": 36,
   "metadata": {},
   "outputs": [],
   "source": [
    "data_min = data_min.drop_duplicates()"
   ]
  },
  {
   "cell_type": "code",
   "execution_count": 37,
   "metadata": {},
   "outputs": [
    {
     "data": {
      "text/plain": [
       "(51, 3)"
      ]
     },
     "execution_count": 37,
     "metadata": {},
     "output_type": "execute_result"
    }
   ],
   "source": [
    "data_min.shape"
   ]
  },
  {
   "cell_type": "code",
   "execution_count": 35,
   "metadata": {},
   "outputs": [
    {
     "data": {
      "text/html": [
       "<div>\n",
       "<style scoped>\n",
       "    .dataframe tbody tr th:only-of-type {\n",
       "        vertical-align: middle;\n",
       "    }\n",
       "\n",
       "    .dataframe tbody tr th {\n",
       "        vertical-align: top;\n",
       "    }\n",
       "\n",
       "    .dataframe thead th {\n",
       "        text-align: right;\n",
       "    }\n",
       "</style>\n",
       "<table border=\"1\" class=\"dataframe\">\n",
       "  <thead>\n",
       "    <tr style=\"text-align: right;\">\n",
       "      <th></th>\n",
       "      <th>user_state</th>\n",
       "      <th>user_id</th>\n",
       "      <th>user_sign_up_date</th>\n",
       "    </tr>\n",
       "  </thead>\n",
       "  <tbody>\n",
       "    <tr>\n",
       "      <th>1</th>\n",
       "      <td>Ohio</td>\n",
       "      <td>3</td>\n",
       "      <td>2015-05-01</td>\n",
       "    </tr>\n",
       "    <tr>\n",
       "      <th>179</th>\n",
       "      <td>Ohio</td>\n",
       "      <td>3</td>\n",
       "      <td>2015-05-01</td>\n",
       "    </tr>\n",
       "    <tr>\n",
       "      <th>271</th>\n",
       "      <td>Ohio</td>\n",
       "      <td>3</td>\n",
       "      <td>2015-05-01</td>\n",
       "    </tr>\n",
       "    <tr>\n",
       "      <th>436</th>\n",
       "      <td>Ohio</td>\n",
       "      <td>3</td>\n",
       "      <td>2015-05-01</td>\n",
       "    </tr>\n",
       "    <tr>\n",
       "      <th>519</th>\n",
       "      <td>Ohio</td>\n",
       "      <td>3</td>\n",
       "      <td>2015-05-01</td>\n",
       "    </tr>\n",
       "    <tr>\n",
       "      <th>1166</th>\n",
       "      <td>Ohio</td>\n",
       "      <td>3</td>\n",
       "      <td>2015-05-01</td>\n",
       "    </tr>\n",
       "    <tr>\n",
       "      <th>1245</th>\n",
       "      <td>Ohio</td>\n",
       "      <td>3</td>\n",
       "      <td>2015-05-01</td>\n",
       "    </tr>\n",
       "    <tr>\n",
       "      <th>1589</th>\n",
       "      <td>Ohio</td>\n",
       "      <td>3</td>\n",
       "      <td>2015-05-01</td>\n",
       "    </tr>\n",
       "    <tr>\n",
       "      <th>1636</th>\n",
       "      <td>Ohio</td>\n",
       "      <td>3</td>\n",
       "      <td>2015-05-01</td>\n",
       "    </tr>\n",
       "    <tr>\n",
       "      <th>1747</th>\n",
       "      <td>Ohio</td>\n",
       "      <td>3</td>\n",
       "      <td>2015-05-01</td>\n",
       "    </tr>\n",
       "    <tr>\n",
       "      <th>2327</th>\n",
       "      <td>Ohio</td>\n",
       "      <td>3</td>\n",
       "      <td>2015-05-01</td>\n",
       "    </tr>\n",
       "    <tr>\n",
       "      <th>2528</th>\n",
       "      <td>Ohio</td>\n",
       "      <td>3</td>\n",
       "      <td>2015-05-01</td>\n",
       "    </tr>\n",
       "    <tr>\n",
       "      <th>3130</th>\n",
       "      <td>Ohio</td>\n",
       "      <td>3</td>\n",
       "      <td>2015-05-01</td>\n",
       "    </tr>\n",
       "    <tr>\n",
       "      <th>3311</th>\n",
       "      <td>Ohio</td>\n",
       "      <td>3</td>\n",
       "      <td>2015-05-01</td>\n",
       "    </tr>\n",
       "    <tr>\n",
       "      <th>3312</th>\n",
       "      <td>Ohio</td>\n",
       "      <td>3</td>\n",
       "      <td>2015-05-01</td>\n",
       "    </tr>\n",
       "    <tr>\n",
       "      <th>3558</th>\n",
       "      <td>Ohio</td>\n",
       "      <td>3</td>\n",
       "      <td>2015-05-01</td>\n",
       "    </tr>\n",
       "    <tr>\n",
       "      <th>3669</th>\n",
       "      <td>Ohio</td>\n",
       "      <td>3</td>\n",
       "      <td>2015-05-01</td>\n",
       "    </tr>\n",
       "    <tr>\n",
       "      <th>3862</th>\n",
       "      <td>Ohio</td>\n",
       "      <td>3</td>\n",
       "      <td>2015-05-01</td>\n",
       "    </tr>\n",
       "  </tbody>\n",
       "</table>\n",
       "</div>"
      ],
      "text/plain": [
       "     user_state  user_id user_sign_up_date\n",
       "1          Ohio        3        2015-05-01\n",
       "179        Ohio        3        2015-05-01\n",
       "271        Ohio        3        2015-05-01\n",
       "436        Ohio        3        2015-05-01\n",
       "519        Ohio        3        2015-05-01\n",
       "1166       Ohio        3        2015-05-01\n",
       "1245       Ohio        3        2015-05-01\n",
       "1589       Ohio        3        2015-05-01\n",
       "1636       Ohio        3        2015-05-01\n",
       "1747       Ohio        3        2015-05-01\n",
       "2327       Ohio        3        2015-05-01\n",
       "2528       Ohio        3        2015-05-01\n",
       "3130       Ohio        3        2015-05-01\n",
       "3311       Ohio        3        2015-05-01\n",
       "3312       Ohio        3        2015-05-01\n",
       "3558       Ohio        3        2015-05-01\n",
       "3669       Ohio        3        2015-05-01\n",
       "3862       Ohio        3        2015-05-01"
      ]
     },
     "execution_count": 35,
     "metadata": {},
     "output_type": "execute_result"
    }
   ],
   "source": [
    "data_min.query('user_state == \"Ohio\"')"
   ]
  },
  {
   "cell_type": "markdown",
   "metadata": {},
   "source": [
    "Q: Build a function that takes as an input any of the songs in the data and returns the most likely song to be listened next\n",
    "\n",
    "That is, if, for instance, a user is currently listening to “Eight Days A Week“, which song has the highest probability of being played right after it by the same user? This is going to be V1 of a song recommendation model.\n",
    "\n",
    "The question specifically asks for the song that is more likely to be played right after another. Therefore, we need to create a dataset that tells usu, for each song, which song is played next. The time factor is crucial and weu don’t want to lose that information. Once we have this, we can directly estimate probabilities for all possible next songs. In short, we should solve this by building a Markov Chain where each song is a state.\n",
    "\n",
    "Note that if we were building a similarity matrix based on songs played by the same person, we would be answering a different question related to song similarities/preferences that would not take into account the time factor."
   ]
  },
  {
   "cell_type": "code",
   "execution_count": 38,
   "metadata": {},
   "outputs": [],
   "source": [
    "#Firstly let's create a dataset where we add a column next_song which is the song played right after by the same user. \n",
    "#If there are more than 30 minutes between consecutive songs, we consider that a new session and therefore it is not counted as next_song. 30 minutes of inactivity is standard for defining a new session. If a song is the last of the session, we remove it from the dataset\n",
    "  \n",
    "#only keep variables we care about and sort by user_id and time_played\n",
    "data_MC = data[['song_played', 'time_played', 'user_id']].sort_values(by=['user_id', 'time_played'])"
   ]
  },
  {
   "cell_type": "code",
   "execution_count": 40,
   "metadata": {},
   "outputs": [
    {
     "data": {
      "text/html": [
       "<div>\n",
       "<style scoped>\n",
       "    .dataframe tbody tr th:only-of-type {\n",
       "        vertical-align: middle;\n",
       "    }\n",
       "\n",
       "    .dataframe tbody tr th {\n",
       "        vertical-align: top;\n",
       "    }\n",
       "\n",
       "    .dataframe thead th {\n",
       "        text-align: right;\n",
       "    }\n",
       "</style>\n",
       "<table border=\"1\" class=\"dataframe\">\n",
       "  <thead>\n",
       "    <tr style=\"text-align: right;\">\n",
       "      <th></th>\n",
       "      <th>song_played</th>\n",
       "      <th>time_played</th>\n",
       "      <th>user_id</th>\n",
       "    </tr>\n",
       "  </thead>\n",
       "  <tbody>\n",
       "    <tr>\n",
       "      <th>1952</th>\n",
       "      <td>yesterday</td>\n",
       "      <td>2015-06-05 14:30:22</td>\n",
       "      <td>1</td>\n",
       "    </tr>\n",
       "    <tr>\n",
       "      <th>619</th>\n",
       "      <td>while my guitar gently weeps</td>\n",
       "      <td>2015-06-07 18:54:56</td>\n",
       "      <td>1</td>\n",
       "    </tr>\n",
       "    <tr>\n",
       "      <th>2719</th>\n",
       "      <td>the long and winding road</td>\n",
       "      <td>2015-06-08 22:37:41</td>\n",
       "      <td>1</td>\n",
       "    </tr>\n",
       "    <tr>\n",
       "      <th>669</th>\n",
       "      <td>reprise / day in the life</td>\n",
       "      <td>2015-06-10 18:00:05</td>\n",
       "      <td>1</td>\n",
       "    </tr>\n",
       "    <tr>\n",
       "      <th>353</th>\n",
       "      <td>i feel fine</td>\n",
       "      <td>2015-06-15 15:46:46</td>\n",
       "      <td>1</td>\n",
       "    </tr>\n",
       "    <tr>\n",
       "      <th>993</th>\n",
       "      <td>hello goodbye</td>\n",
       "      <td>2015-06-19 14:54:57</td>\n",
       "      <td>1</td>\n",
       "    </tr>\n",
       "    <tr>\n",
       "      <th>627</th>\n",
       "      <td>here comes the sun</td>\n",
       "      <td>2015-06-21 21:53:48</td>\n",
       "      <td>1</td>\n",
       "    </tr>\n",
       "    <tr>\n",
       "      <th>1373</th>\n",
       "      <td>can't buy me love</td>\n",
       "      <td>2015-06-22 08:05:01</td>\n",
       "      <td>1</td>\n",
       "    </tr>\n",
       "    <tr>\n",
       "      <th>1563</th>\n",
       "      <td>birthday</td>\n",
       "      <td>2015-06-25 12:32:22</td>\n",
       "      <td>1</td>\n",
       "    </tr>\n",
       "    <tr>\n",
       "      <th>3172</th>\n",
       "      <td>here comes the sun</td>\n",
       "      <td>2015-06-25 20:28:47</td>\n",
       "      <td>1</td>\n",
       "    </tr>\n",
       "  </tbody>\n",
       "</table>\n",
       "</div>"
      ],
      "text/plain": [
       "                       song_played         time_played  user_id\n",
       "1952                     yesterday 2015-06-05 14:30:22        1\n",
       "619   while my guitar gently weeps 2015-06-07 18:54:56        1\n",
       "2719     the long and winding road 2015-06-08 22:37:41        1\n",
       "669      reprise / day in the life 2015-06-10 18:00:05        1\n",
       "353                    i feel fine 2015-06-15 15:46:46        1\n",
       "993                  hello goodbye 2015-06-19 14:54:57        1\n",
       "627             here comes the sun 2015-06-21 21:53:48        1\n",
       "1373             can't buy me love 2015-06-22 08:05:01        1\n",
       "1563                      birthday 2015-06-25 12:32:22        1\n",
       "3172            here comes the sun 2015-06-25 20:28:47        1"
      ]
     },
     "execution_count": 40,
     "metadata": {},
     "output_type": "execute_result"
    }
   ],
   "source": [
    "data_MC.query(\"user_id==1\")"
   ]
  },
  {
   "cell_type": "code",
   "execution_count": 41,
   "metadata": {},
   "outputs": [],
   "source": [
    "#add next song and corresponding timestamp\n",
    "data_MC['next_song'] = data_MC.groupby('user_id')['song_played'].shift(-1)\n",
    "data_MC['next_time_played'] = data_MC.groupby('user_id')['time_played'].shift(-1)"
   ]
  },
  {
   "cell_type": "code",
   "execution_count": 43,
   "metadata": {},
   "outputs": [
    {
     "data": {
      "text/html": [
       "<div>\n",
       "<style scoped>\n",
       "    .dataframe tbody tr th:only-of-type {\n",
       "        vertical-align: middle;\n",
       "    }\n",
       "\n",
       "    .dataframe tbody tr th {\n",
       "        vertical-align: top;\n",
       "    }\n",
       "\n",
       "    .dataframe thead th {\n",
       "        text-align: right;\n",
       "    }\n",
       "</style>\n",
       "<table border=\"1\" class=\"dataframe\">\n",
       "  <thead>\n",
       "    <tr style=\"text-align: right;\">\n",
       "      <th></th>\n",
       "      <th>song_played</th>\n",
       "      <th>time_played</th>\n",
       "      <th>user_id</th>\n",
       "      <th>next_song</th>\n",
       "      <th>next_time_played</th>\n",
       "    </tr>\n",
       "  </thead>\n",
       "  <tbody>\n",
       "    <tr>\n",
       "      <th>1952</th>\n",
       "      <td>yesterday</td>\n",
       "      <td>2015-06-05 14:30:22</td>\n",
       "      <td>1</td>\n",
       "      <td>while my guitar gently weeps</td>\n",
       "      <td>2015-06-07 18:54:56</td>\n",
       "    </tr>\n",
       "    <tr>\n",
       "      <th>619</th>\n",
       "      <td>while my guitar gently weeps</td>\n",
       "      <td>2015-06-07 18:54:56</td>\n",
       "      <td>1</td>\n",
       "      <td>the long and winding road</td>\n",
       "      <td>2015-06-08 22:37:41</td>\n",
       "    </tr>\n",
       "    <tr>\n",
       "      <th>2719</th>\n",
       "      <td>the long and winding road</td>\n",
       "      <td>2015-06-08 22:37:41</td>\n",
       "      <td>1</td>\n",
       "      <td>reprise / day in the life</td>\n",
       "      <td>2015-06-10 18:00:05</td>\n",
       "    </tr>\n",
       "    <tr>\n",
       "      <th>669</th>\n",
       "      <td>reprise / day in the life</td>\n",
       "      <td>2015-06-10 18:00:05</td>\n",
       "      <td>1</td>\n",
       "      <td>i feel fine</td>\n",
       "      <td>2015-06-15 15:46:46</td>\n",
       "    </tr>\n",
       "    <tr>\n",
       "      <th>353</th>\n",
       "      <td>i feel fine</td>\n",
       "      <td>2015-06-15 15:46:46</td>\n",
       "      <td>1</td>\n",
       "      <td>hello goodbye</td>\n",
       "      <td>2015-06-19 14:54:57</td>\n",
       "    </tr>\n",
       "  </tbody>\n",
       "</table>\n",
       "</div>"
      ],
      "text/plain": [
       "                       song_played         time_played  user_id                     next_song    next_time_played\n",
       "1952                     yesterday 2015-06-05 14:30:22        1  while my guitar gently weeps 2015-06-07 18:54:56\n",
       "619   while my guitar gently weeps 2015-06-07 18:54:56        1     the long and winding road 2015-06-08 22:37:41\n",
       "2719     the long and winding road 2015-06-08 22:37:41        1     reprise / day in the life 2015-06-10 18:00:05\n",
       "669      reprise / day in the life 2015-06-10 18:00:05        1                   i feel fine 2015-06-15 15:46:46\n",
       "353                    i feel fine 2015-06-15 15:46:46        1                 hello goodbye 2015-06-19 14:54:57"
      ]
     },
     "execution_count": 43,
     "metadata": {},
     "output_type": "execute_result"
    }
   ],
   "source": [
    "data_MC.head()"
   ]
  },
  {
   "cell_type": "code",
   "execution_count": 44,
   "metadata": {},
   "outputs": [],
   "source": [
    "from datetime import datetime\n",
    "#remove last song for each session. This happens when next_time_played is NA or when next_time_played - time_played > 30 mins\n",
    "data_MC = data_MC.dropna(subset = ['next_time_played'])\n",
    "data_MC = data_MC[(data_MC.next_time_played-data_MC.time_played)/pd.Timedelta(minutes=1) < 30]\n",
    "#also remove when next song is same as current song. Would not make any sense as suggestion\n",
    "data_MC = data_MC[data_MC.song_played != data_MC.next_song]"
   ]
  },
  {
   "cell_type": "code",
   "execution_count": 45,
   "metadata": {},
   "outputs": [
    {
     "data": {
      "text/html": [
       "<div>\n",
       "<style scoped>\n",
       "    .dataframe tbody tr th:only-of-type {\n",
       "        vertical-align: middle;\n",
       "    }\n",
       "\n",
       "    .dataframe tbody tr th {\n",
       "        vertical-align: top;\n",
       "    }\n",
       "\n",
       "    .dataframe thead th {\n",
       "        text-align: right;\n",
       "    }\n",
       "</style>\n",
       "<table border=\"1\" class=\"dataframe\">\n",
       "  <thead>\n",
       "    <tr style=\"text-align: right;\">\n",
       "      <th></th>\n",
       "      <th>song_played</th>\n",
       "      <th>time_played</th>\n",
       "      <th>user_id</th>\n",
       "      <th>next_song</th>\n",
       "      <th>next_time_played</th>\n",
       "    </tr>\n",
       "  </thead>\n",
       "  <tbody>\n",
       "    <tr>\n",
       "      <th>2327</th>\n",
       "      <td>eleanor rigby</td>\n",
       "      <td>2015-06-07 20:03:00</td>\n",
       "      <td>3</td>\n",
       "      <td>lucy in the sky with diamonds</td>\n",
       "      <td>2015-06-07 20:24:55</td>\n",
       "    </tr>\n",
       "    <tr>\n",
       "      <th>1589</th>\n",
       "      <td>hey jude</td>\n",
       "      <td>2015-06-21 18:34:06</td>\n",
       "      <td>3</td>\n",
       "      <td>eleanor rigby</td>\n",
       "      <td>2015-06-21 18:52:15</td>\n",
       "    </tr>\n",
       "    <tr>\n",
       "      <th>3135</th>\n",
       "      <td>revolution</td>\n",
       "      <td>2015-06-12 13:04:57</td>\n",
       "      <td>4</td>\n",
       "      <td>hey jude</td>\n",
       "      <td>2015-06-12 13:33:38</td>\n",
       "    </tr>\n",
       "    <tr>\n",
       "      <th>2459</th>\n",
       "      <td>hey jude</td>\n",
       "      <td>2015-06-06 15:21:12</td>\n",
       "      <td>6</td>\n",
       "      <td>sun king</td>\n",
       "      <td>2015-06-06 15:29:28</td>\n",
       "    </tr>\n",
       "    <tr>\n",
       "      <th>781</th>\n",
       "      <td>dear prudence</td>\n",
       "      <td>2015-06-15 13:02:50</td>\n",
       "      <td>9</td>\n",
       "      <td>yesterday</td>\n",
       "      <td>2015-06-15 13:20:42</td>\n",
       "    </tr>\n",
       "  </tbody>\n",
       "</table>\n",
       "</div>"
      ],
      "text/plain": [
       "        song_played         time_played  user_id                      next_song    next_time_played\n",
       "2327  eleanor rigby 2015-06-07 20:03:00        3  lucy in the sky with diamonds 2015-06-07 20:24:55\n",
       "1589       hey jude 2015-06-21 18:34:06        3                  eleanor rigby 2015-06-21 18:52:15\n",
       "3135     revolution 2015-06-12 13:04:57        4                       hey jude 2015-06-12 13:33:38\n",
       "2459       hey jude 2015-06-06 15:21:12        6                       sun king 2015-06-06 15:29:28\n",
       "781   dear prudence 2015-06-15 13:02:50        9                      yesterday 2015-06-15 13:20:42"
      ]
     },
     "execution_count": 45,
     "metadata": {},
     "output_type": "execute_result"
    }
   ],
   "source": [
    "data_MC.head()"
   ]
  },
  {
   "cell_type": "code",
   "execution_count": 47,
   "metadata": {},
   "outputs": [],
   "source": [
    "#let's estimate for each song, the next song with the highest count\n",
    "data_MC = data_MC.groupby(['song_played', 'next_song']).size().reset_index(name = 'count')\n",
    "data_MC = data_MC[data_MC.groupby(['song_played'])['count'].transform(max) == data_MC['count']]"
   ]
  },
  {
   "cell_type": "code",
   "execution_count": 48,
   "metadata": {},
   "outputs": [
    {
     "data": {
      "text/html": [
       "<div>\n",
       "<style scoped>\n",
       "    .dataframe tbody tr th:only-of-type {\n",
       "        vertical-align: middle;\n",
       "    }\n",
       "\n",
       "    .dataframe tbody tr th {\n",
       "        vertical-align: top;\n",
       "    }\n",
       "\n",
       "    .dataframe thead th {\n",
       "        text-align: right;\n",
       "    }\n",
       "</style>\n",
       "<table border=\"1\" class=\"dataframe\">\n",
       "  <thead>\n",
       "    <tr style=\"text-align: right;\">\n",
       "      <th></th>\n",
       "      <th>song_played</th>\n",
       "      <th>next_song</th>\n",
       "    </tr>\n",
       "  </thead>\n",
       "  <tbody>\n",
       "    <tr>\n",
       "      <th>0</th>\n",
       "      <td>a day in the life</td>\n",
       "      <td>i am the walrus</td>\n",
       "    </tr>\n",
       "    <tr>\n",
       "      <th>1</th>\n",
       "      <td>a day in the life</td>\n",
       "      <td>i saw her standing there</td>\n",
       "    </tr>\n",
       "    <tr>\n",
       "      <th>2</th>\n",
       "      <td>a day in the life</td>\n",
       "      <td>i've just seen a face</td>\n",
       "    </tr>\n",
       "    <tr>\n",
       "      <th>3</th>\n",
       "      <td>a day in the life</td>\n",
       "      <td>ob-la-di, ob-la-da</td>\n",
       "    </tr>\n",
       "    <tr>\n",
       "      <th>4</th>\n",
       "      <td>a day in the life</td>\n",
       "      <td>oh darling</td>\n",
       "    </tr>\n",
       "  </tbody>\n",
       "</table>\n",
       "</div>"
      ],
      "text/plain": [
       "         song_played                 next_song\n",
       "0  a day in the life           i am the walrus\n",
       "1  a day in the life  i saw her standing there\n",
       "2  a day in the life     i've just seen a face\n",
       "3  a day in the life        ob-la-di, ob-la-da\n",
       "4  a day in the life                oh darling"
      ]
     },
     "execution_count": 48,
     "metadata": {},
     "output_type": "execute_result"
    }
   ],
   "source": [
    "data_MC[['song_played', 'next_song']].head()"
   ]
  },
  {
   "cell_type": "code",
   "execution_count": 49,
   "metadata": {},
   "outputs": [],
   "source": [
    "#write the function \n",
    "def MC_function(song):\n",
    "  tmp = data_MC [data_MC.song_played == song]\n",
    "  #if we have no suggestions, pick a song randomly, using as a probability of picking the relative frequency in the original dataset\n",
    "  if tmp.shape[0]==0:\n",
    "    return(print(\"Suggested song after\", song, \"is:\", data[data.song_played != song].song_played.sample(1).values))\n",
    "  #if we only have one suggestion, simply suggest that one\n",
    "  if tmp.shape[0]==1:\n",
    "    return(print(\"Suggested song after\", song, \"is:\", tmp.next_song.values))\n",
    "  #if we have more than one suggestion, all equally likely, randomly pick one\n",
    "  if tmp.shape[0]>1:\n",
    "    return(print(\"Suggested song after\", song, \"is:\", tmp.next_song.sample(1).values))\n"
   ]
  },
  {
   "cell_type": "code",
   "execution_count": 50,
   "metadata": {},
   "outputs": [
    {
     "name": "stdout",
     "output_type": "stream",
     "text": [
      "Suggested song after eight days a week is: ['lady madonna']\n"
     ]
    }
   ],
   "source": [
    "MC_function(\"eight days a week\")"
   ]
  },
  {
   "cell_type": "code",
   "execution_count": null,
   "metadata": {},
   "outputs": [],
   "source": []
  }
 ],
 "metadata": {
  "kernelspec": {
   "display_name": "Python 3",
   "language": "python",
   "name": "python3"
  },
  "language_info": {
   "codemirror_mode": {
    "name": "ipython",
    "version": 3
   },
   "file_extension": ".py",
   "mimetype": "text/x-python",
   "name": "python",
   "nbconvert_exporter": "python",
   "pygments_lexer": "ipython3",
   "version": "3.7.3"
  }
 },
 "nbformat": 4,
 "nbformat_minor": 2
}
