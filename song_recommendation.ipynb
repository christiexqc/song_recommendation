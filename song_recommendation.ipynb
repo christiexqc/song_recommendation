{
 "cells": [
  {
   "cell_type": "code",
   "execution_count": 1,
   "metadata": {},
   "outputs": [
    {
     "name": "stderr",
     "output_type": "stream",
     "text": [
      "//miniconda3/lib/python3.7/site-packages/statsmodels/tools/_testing.py:19: FutureWarning: pandas.util.testing is deprecated. Use the functions in the public API at pandas.testing instead.\n",
      "  import pandas.util.testing as tm\n"
     ]
    }
   ],
   "source": [
    "%matplotlib inline\n",
    "import numpy as np\n",
    "import scipy\n",
    "import pandas\n",
    "import matplotlib.pyplot as plt\n",
    "#import statsmodels.formula.api as sm\n",
    "import seaborn as sns\n",
    "import sklearn as sl\n",
    "from sklearn import preprocessing\n",
    "import warnings\n",
    "warnings.filterwarnings('ignore')\n",
    "pandas.set_option('display.max_columns', 20)\n",
    "pandas.set_option('display.width', 350)"
   ]
  },
  {
   "cell_type": "code",
   "execution_count": 2,
   "metadata": {},
   "outputs": [],
   "source": [
    "data=pandas.read_json('./dataset/song.json')"
   ]
  },
  {
   "cell_type": "code",
   "execution_count": 3,
   "metadata": {},
   "outputs": [
    {
     "data": {
      "text/html": [
       "<div>\n",
       "<style scoped>\n",
       "    .dataframe tbody tr th:only-of-type {\n",
       "        vertical-align: middle;\n",
       "    }\n",
       "\n",
       "    .dataframe tbody tr th {\n",
       "        vertical-align: top;\n",
       "    }\n",
       "\n",
       "    .dataframe thead th {\n",
       "        text-align: right;\n",
       "    }\n",
       "</style>\n",
       "<table border=\"1\" class=\"dataframe\">\n",
       "  <thead>\n",
       "    <tr style=\"text-align: right;\">\n",
       "      <th></th>\n",
       "      <th>id</th>\n",
       "      <th>user_id</th>\n",
       "      <th>user_state</th>\n",
       "      <th>user_sign_up_date</th>\n",
       "      <th>song_played</th>\n",
       "      <th>time_played</th>\n",
       "    </tr>\n",
       "  </thead>\n",
       "  <tbody>\n",
       "    <tr>\n",
       "      <th>0</th>\n",
       "      <td>GOQMMKSQQH</td>\n",
       "      <td>122</td>\n",
       "      <td>Louisiana</td>\n",
       "      <td>2015-05-16</td>\n",
       "      <td>Hey Jude</td>\n",
       "      <td>2015-06-11 21:51:35</td>\n",
       "    </tr>\n",
       "    <tr>\n",
       "      <th>1</th>\n",
       "      <td>HWKKBQKNWI</td>\n",
       "      <td>3</td>\n",
       "      <td>Ohio</td>\n",
       "      <td>2015-05-01</td>\n",
       "      <td>We Can Work It Out</td>\n",
       "      <td>2015-06-06 16:49:19</td>\n",
       "    </tr>\n",
       "    <tr>\n",
       "      <th>2</th>\n",
       "      <td>DKQSXVNJDH</td>\n",
       "      <td>35</td>\n",
       "      <td>New Jersey</td>\n",
       "      <td>2015-05-04</td>\n",
       "      <td>Back In the U.S.S.R.</td>\n",
       "      <td>2015-06-14 02:11:29</td>\n",
       "    </tr>\n",
       "    <tr>\n",
       "      <th>3</th>\n",
       "      <td>HLHRIDQTUW</td>\n",
       "      <td>126</td>\n",
       "      <td>Illinois</td>\n",
       "      <td>2015-05-16</td>\n",
       "      <td>P.s. I Love You</td>\n",
       "      <td>2015-06-08 12:26:10</td>\n",
       "    </tr>\n",
       "    <tr>\n",
       "      <th>4</th>\n",
       "      <td>SUKJCSBCYW</td>\n",
       "      <td>6</td>\n",
       "      <td>New Jersey</td>\n",
       "      <td>2015-05-01</td>\n",
       "      <td>Sgt. Pepper's Lonely Hearts Club Band</td>\n",
       "      <td>2015-06-28 14:57:00</td>\n",
       "    </tr>\n",
       "  </tbody>\n",
       "</table>\n",
       "</div>"
      ],
      "text/plain": [
       "           id  user_id  user_state user_sign_up_date                            song_played          time_played\n",
       "0  GOQMMKSQQH      122   Louisiana        2015-05-16                               Hey Jude  2015-06-11 21:51:35\n",
       "1  HWKKBQKNWI        3        Ohio        2015-05-01                     We Can Work It Out  2015-06-06 16:49:19\n",
       "2  DKQSXVNJDH       35  New Jersey        2015-05-04                   Back In the U.S.S.R.  2015-06-14 02:11:29\n",
       "3  HLHRIDQTUW      126    Illinois        2015-05-16                        P.s. I Love You  2015-06-08 12:26:10\n",
       "4  SUKJCSBCYW        6  New Jersey        2015-05-01  Sgt. Pepper's Lonely Hearts Club Band  2015-06-28 14:57:00"
      ]
     },
     "execution_count": 3,
     "metadata": {},
     "output_type": "execute_result"
    }
   ],
   "source": [
    "data.head()"
   ]
  },
  {
   "cell_type": "code",
   "execution_count": 4,
   "metadata": {},
   "outputs": [
    {
     "data": {
      "text/plain": [
       "(4000, 6)"
      ]
     },
     "execution_count": 4,
     "metadata": {},
     "output_type": "execute_result"
    }
   ],
   "source": [
    "data.shape"
   ]
  },
  {
   "cell_type": "code",
   "execution_count": 5,
   "metadata": {},
   "outputs": [
    {
     "data": {
      "text/plain": [
       "id                   object\n",
       "user_id               int64\n",
       "user_state           object\n",
       "user_sign_up_date    object\n",
       "song_played          object\n",
       "time_played          object\n",
       "dtype: object"
      ]
     },
     "execution_count": 5,
     "metadata": {},
     "output_type": "execute_result"
    }
   ],
   "source": [
    "data.dtypes"
   ]
  },
  {
   "cell_type": "code",
   "execution_count": 6,
   "metadata": {},
   "outputs": [],
   "source": [
    "#fixing dates\n",
    "data['time_played']=  pandas.to_datetime(data['time_played'], format='%Y-%m-%d %H:%M:%S')\n",
    "data['user_sign_up_date'] = pandas.to_datetime(data['user_sign_up_date'], format='%Y-%m-%d')"
   ]
  },
  {
   "cell_type": "code",
   "execution_count": 7,
   "metadata": {},
   "outputs": [
    {
     "data": {
      "text/plain": [
       "id                           object\n",
       "user_id                       int64\n",
       "user_state                   object\n",
       "user_sign_up_date    datetime64[ns]\n",
       "song_played                  object\n",
       "time_played          datetime64[ns]\n",
       "dtype: object"
      ]
     },
     "execution_count": 7,
     "metadata": {},
     "output_type": "execute_result"
    }
   ],
   "source": [
    "data.dtypes"
   ]
  },
  {
   "cell_type": "code",
   "execution_count": 8,
   "metadata": {},
   "outputs": [],
   "source": [
    "data['song_played'] = data['song_played'].str.lower()"
   ]
  },
  {
   "cell_type": "code",
   "execution_count": 10,
   "metadata": {},
   "outputs": [
    {
     "name": "stdout",
     "output_type": "stream",
     "text": [
      "For 9 states we have no users\n"
     ]
    }
   ],
   "source": [
    "#From how many states we have at least one user?\n",
    "print(\"For\", 50 - data['user_state'].nunique(), \"states we have no users\")"
   ]
  },
  {
   "cell_type": "code",
   "execution_count": 11,
   "metadata": {},
   "outputs": [],
   "source": [
    "data_state_count = data.groupby('user_state').user_id.nunique()"
   ]
  },
  {
   "cell_type": "code",
   "execution_count": 12,
   "metadata": {},
   "outputs": [
    {
     "name": "stdout",
     "output_type": "stream",
     "text": [
      "user_state\n",
      "New York      23\n",
      "California    21\n",
      "Texas         15\n",
      "Name: user_id, dtype: int64\n"
     ]
    }
   ],
   "source": [
    "print(data_state_count.nlargest(3, keep='all'))"
   ]
  },
  {
   "cell_type": "code",
   "execution_count": 13,
   "metadata": {},
   "outputs": [
    {
     "name": "stdout",
     "output_type": "stream",
     "text": [
      "user_state\n",
      "Arizona         1\n",
      "Connecticut     1\n",
      "Idaho           1\n",
      "Iowa            1\n",
      "Kansas          1\n",
      "Nebraska        1\n",
      "New Mexico      1\n",
      "North Dakota    1\n",
      "Rhode Island    1\n",
      "Name: user_id, dtype: int64\n"
     ]
    }
   ],
   "source": [
    "print(data_state_count.nsmallest(3, keep='all'))"
   ]
  },
  {
   "cell_type": "code",
   "execution_count": 15,
   "metadata": {},
   "outputs": [],
   "source": [
    "all_states = [\n",
    "         'Alabama','Alaska','Arizona','Arkansas','California','Colorado',\n",
    "         'Connecticut','Delaware','Florida','Georgia','Hawaii','Idaho', \n",
    "         'Illinois','Indiana','Iowa','Kansas','Kentucky','Louisiana',\n",
    "         'Maine', 'Maryland','Massachusetts','Michigan','Minnesota',\n",
    "         'Mississippi', 'Missouri','Montana','Nebraska','Nevada',\n",
    "         'New Hampshire','New Jersey','New Mexico','New York',\n",
    "         'North Carolina','North Dakota','Ohio',    \n",
    "         'Oklahoma','Oregon','Pennsylvania','Rhode Island',\n",
    "         'South Carolina','South Dakota','Tennessee','Texas','Utah',\n",
    "         'Vermont','Virginia','Washington','West Virginia',\n",
    "         'Wisconsin','Wyoming'\n",
    "    ]"
   ]
  },
  {
   "cell_type": "code",
   "execution_count": 16,
   "metadata": {},
   "outputs": [
    {
     "name": "stdout",
     "output_type": "stream",
     "text": [
      "True\n"
     ]
    }
   ],
   "source": [
    "print(len(np.intersect1d(data['user_state'].unique(), all_states))==data['user_state'].nunique())"
   ]
  },
  {
   "cell_type": "code",
   "execution_count": 17,
   "metadata": {},
   "outputs": [
    {
     "name": "stdout",
     "output_type": "stream",
     "text": [
      "The following 9 states have no users:  ['Delaware' 'Hawaii' 'Maine' 'Montana' 'Nevada' 'New Hampshire'\n",
      " 'South Dakota' 'Vermont' 'Wyoming']\n"
     ]
    }
   ],
   "source": [
    "print(\"The following\", len(np.setxor1d(data['user_state'].unique(), all_states))  ,\"states have no users: \", np.setxor1d(data['user_state'].unique(), all_states))"
   ]
  },
  {
   "cell_type": "code",
   "execution_count": 18,
   "metadata": {},
   "outputs": [],
   "source": [
    "data_engagement = data.groupby(['user_id', 'user_state']).size().reset_index(name='songs_user')"
   ]
  },
  {
   "cell_type": "code",
   "execution_count": 19,
   "metadata": {},
   "outputs": [],
   "source": [
    "data_engagement = data_engagement.groupby(['user_state']).apply(\n",
    "                    lambda x: pandas.Series({\n",
    "                             # avg songs\n",
    "                            'engagement': x['songs_user'].mean(),\n",
    "                             # count unique users \n",
    "                            'count_unique_users': x['user_id'].nunique()\n",
    "  })\n",
    ").reset_index()"
   ]
  },
  {
   "cell_type": "code",
   "execution_count": null,
   "metadata": {},
   "outputs": [],
   "source": []
  },
  {
   "cell_type": "code",
   "execution_count": 20,
   "metadata": {},
   "outputs": [],
   "source": [
    "data_engagement = data_engagement.loc[data_engagement['count_unique_users'] > np.median(data_engagement.count_unique_users)]"
   ]
  },
  {
   "cell_type": "code",
   "execution_count": 21,
   "metadata": {},
   "outputs": [
    {
     "data": {
      "text/html": [
       "<div>\n",
       "<style scoped>\n",
       "    .dataframe tbody tr th:only-of-type {\n",
       "        vertical-align: middle;\n",
       "    }\n",
       "\n",
       "    .dataframe tbody tr th {\n",
       "        vertical-align: top;\n",
       "    }\n",
       "\n",
       "    .dataframe thead th {\n",
       "        text-align: right;\n",
       "    }\n",
       "</style>\n",
       "<table border=\"1\" class=\"dataframe\">\n",
       "  <thead>\n",
       "    <tr style=\"text-align: right;\">\n",
       "      <th></th>\n",
       "      <th>user_state</th>\n",
       "      <th>engagement</th>\n",
       "      <th>count_unique_users</th>\n",
       "    </tr>\n",
       "  </thead>\n",
       "  <tbody>\n",
       "    <tr>\n",
       "      <th>0</th>\n",
       "      <td>Alabama</td>\n",
       "      <td>26.000000</td>\n",
       "      <td>4.0</td>\n",
       "    </tr>\n",
       "    <tr>\n",
       "      <th>4</th>\n",
       "      <td>California</td>\n",
       "      <td>20.238095</td>\n",
       "      <td>21.0</td>\n",
       "    </tr>\n",
       "    <tr>\n",
       "      <th>7</th>\n",
       "      <td>Florida</td>\n",
       "      <td>25.714286</td>\n",
       "      <td>7.0</td>\n",
       "    </tr>\n",
       "    <tr>\n",
       "      <th>8</th>\n",
       "      <td>Georgia</td>\n",
       "      <td>22.500000</td>\n",
       "      <td>6.0</td>\n",
       "    </tr>\n",
       "    <tr>\n",
       "      <th>10</th>\n",
       "      <td>Illinois</td>\n",
       "      <td>21.285714</td>\n",
       "      <td>7.0</td>\n",
       "    </tr>\n",
       "  </tbody>\n",
       "</table>\n",
       "</div>"
      ],
      "text/plain": [
       "    user_state  engagement  count_unique_users\n",
       "0      Alabama   26.000000                 4.0\n",
       "4   California   20.238095                21.0\n",
       "7      Florida   25.714286                 7.0\n",
       "8      Georgia   22.500000                 6.0\n",
       "10    Illinois   21.285714                 7.0"
      ]
     },
     "execution_count": 21,
     "metadata": {},
     "output_type": "execute_result"
    }
   ],
   "source": [
    "data_engagement.head(5)"
   ]
  },
  {
   "cell_type": "code",
   "execution_count": 22,
   "metadata": {},
   "outputs": [
    {
     "name": "stdout",
     "output_type": "stream",
     "text": [
      "Top 3 states for user engagement are: \n",
      "         user_state  engagement  count_unique_users\n",
      "0          Alabama   26.000000                 4.0\n",
      "7          Florida   25.714286                 7.0\n",
      "26  North Carolina   25.666667                 6.0\n"
     ]
    }
   ],
   "source": [
    "#Top 3 states\n",
    "print(\"Top 3 states for user engagement are: \\n\", data_engagement.nlargest(3, columns = 'engagement', keep='all'))"
   ]
  },
  {
   "cell_type": "code",
   "execution_count": 23,
   "metadata": {},
   "outputs": [
    {
     "name": "stdout",
     "output_type": "stream",
     "text": [
      "Bottom 3 states for user engagement are: \n",
      "        user_state  engagement  count_unique_users\n",
      "19      Minnesota   10.500000                 4.0\n",
      "11        Indiana   13.750000                 4.0\n",
      "17  Massachusetts   15.166667                 6.0\n"
     ]
    }
   ],
   "source": [
    "#Bottom 3 \n",
    "print(\"Bottom 3 states for user engagement are: \\n\", data_engagement.nsmallest(3, columns = 'engagement', keep='all'))"
   ]
  },
  {
   "cell_type": "markdown",
   "metadata": {},
   "source": [
    "# Q: The CEO wants to send a gift to the first user who signed-up for each state. That is, the first user who signed-up from California, from Oregon, etc. Create a list of those users."
   ]
  },
  {
   "cell_type": "code",
   "execution_count": 24,
   "metadata": {},
   "outputs": [],
   "source": [
    "idx = data[[\"user_state\", \"user_id\", \"user_sign_up_date\"]].groupby('user_state')['user_sign_up_date'].transform(min) == data['user_sign_up_date']"
   ]
  },
  {
   "cell_type": "code",
   "execution_count": 25,
   "metadata": {},
   "outputs": [],
   "source": [
    "data_min = data[idx][[\"user_state\", \"user_id\", \"user_sign_up_date\"]].drop_duplicates()"
   ]
  },
  {
   "cell_type": "code",
   "execution_count": 26,
   "metadata": {},
   "outputs": [
    {
     "name": "stdout",
     "output_type": "stream",
     "text": [
      "    user_state  user_id user_sign_up_date\n",
      "52    New York       19        2015-05-02\n",
      "60    New York       22        2015-05-02\n",
      "196   New York       27        2015-05-02\n",
      "228   New York       12        2015-05-02\n",
      "266   New York       10        2015-05-02\n"
     ]
    }
   ],
   "source": [
    "print(data_min.query(\"user_state == \\\"New York\\\"\"))"
   ]
  },
  {
   "cell_type": "markdown",
   "metadata": {},
   "source": [
    "# Q: Build a function that takes as an input any of the songs in the data and returns the most likely song to be listened next"
   ]
  },
  {
   "cell_type": "code",
   "execution_count": 27,
   "metadata": {},
   "outputs": [],
   "source": [
    "#Firstly let's create a dataset where we add a column next_song which is the song played right after by the same user. \n",
    "#If there are more than 30 minutes between consecutive songs, we consider that a new session and therefore it is not counted as next_song. 30 minutes of inactivity is standard for defining a new session. If a song is the last of the session, we remove it from the dataset\n",
    "  \n",
    "#only keep variables we care about and sort by user_id and time_played\n",
    "data_MC = data[['song_played', 'time_played', 'user_id']].sort_values(by=['user_id', 'time_played'])"
   ]
  },
  {
   "cell_type": "code",
   "execution_count": 28,
   "metadata": {},
   "outputs": [
    {
     "name": "stdout",
     "output_type": "stream",
     "text": [
      "                       song_played         time_played  user_id\n",
      "1952                     yesterday 2015-06-05 14:30:22        1\n",
      "619   while my guitar gently weeps 2015-06-07 18:54:56        1\n",
      "2719     the long and winding road 2015-06-08 22:37:41        1\n",
      "669      reprise / day in the life 2015-06-10 18:00:05        1\n",
      "353                    i feel fine 2015-06-15 15:46:46        1\n",
      "993                  hello goodbye 2015-06-19 14:54:57        1\n",
      "627             here comes the sun 2015-06-21 21:53:48        1\n",
      "1373             can't buy me love 2015-06-22 08:05:01        1\n",
      "1563                      birthday 2015-06-25 12:32:22        1\n",
      "3172            here comes the sun 2015-06-25 20:28:47        1\n"
     ]
    }
   ],
   "source": [
    "print(data_MC.query(\"user_id==1\"))"
   ]
  },
  {
   "cell_type": "code",
   "execution_count": 30,
   "metadata": {},
   "outputs": [],
   "source": [
    "#add next song and corresponding timestamp\n",
    "data_MC['next_song'] = data_MC.groupby('user_id')['song_played'].shift(-1)\n",
    "data_MC['next_time_played'] = data_MC.groupby('user_id')['time_played'].shift(-1)"
   ]
  },
  {
   "cell_type": "code",
   "execution_count": 33,
   "metadata": {},
   "outputs": [],
   "source": [
    "from datetime import datetime"
   ]
  },
  {
   "cell_type": "code",
   "execution_count": 35,
   "metadata": {},
   "outputs": [],
   "source": [
    "#remove last song for each session. This happens when next_time_played is NA or when next_time_played - time_played > 30 mins\n",
    "data_MC = data_MC.dropna(subset = ['next_time_played'])"
   ]
  },
  {
   "cell_type": "code",
   "execution_count": 36,
   "metadata": {},
   "outputs": [],
   "source": [
    "data_MC = data_MC[(data_MC.next_time_played-data_MC.time_played)/pandas.Timedelta(minutes=1) < 30]"
   ]
  },
  {
   "cell_type": "code",
   "execution_count": 37,
   "metadata": {},
   "outputs": [
    {
     "name": "stdout",
     "output_type": "stream",
     "text": [
      "         song_played                 next_song\n",
      "0  a day in the life           i am the walrus\n",
      "1  a day in the life  i saw her standing there\n",
      "2  a day in the life     i've just seen a face\n",
      "3  a day in the life        ob-la-di, ob-la-da\n",
      "4  a day in the life                oh darling\n"
     ]
    }
   ],
   "source": [
    "#also remove when next song is same as current song. Would not make any sense as suggestion\n",
    "data_MC = data_MC[data_MC.song_played != data_MC.next_song]\n",
    "  \n",
    "#let's estimate for each song, the next song with the highest count\n",
    "data_MC = data_MC.groupby(['song_played', 'next_song']).size().reset_index(name = 'count')\n",
    "idx = data_MC.groupby(['song_played'])['count'].transform(max) == data_MC['count']\n",
    "data_MC = data_MC[idx] \n",
    "print(data_MC[['song_played', 'next_song']].head())"
   ]
  },
  {
   "cell_type": "code",
   "execution_count": 38,
   "metadata": {},
   "outputs": [],
   "source": [
    "#write the function \n",
    "def MC_function(song):\n",
    "  tmp = data_MC [data_MC.song_played == song]\n",
    "  #if we have no suggestions, pick a song randomly, using as a probability of picking the relative frequency in the original dataset\n",
    "  if tmp.shape[0]==0:\n",
    "    return(print(\"Suggested song after\", song, \"is:\", data[data.song_played != song].song_played.sample(1).values))\n",
    "  #if we only have one suggestion, simply suggest that one\n",
    "  if tmp.shape[0]==1:\n",
    "    return(print(\"Suggested song after\", song, \"is:\", tmp.next_song.values))\n",
    "  #if we have more than one suggestion, all equally likely, randomly pick one\n",
    "  if tmp.shape[0]>1:\n",
    "    return(print(\"Suggested song after\", song, \"is:\", tmp.next_song.sample(1).values))\n"
   ]
  },
  {
   "cell_type": "code",
   "execution_count": 39,
   "metadata": {},
   "outputs": [
    {
     "name": "stdout",
     "output_type": "stream",
     "text": [
      "Empty DataFrame\n",
      "Columns: [song_played, next_song, count]\n",
      "Index: []\n"
     ]
    }
   ],
   "source": [
    "print(data_MC[data_MC.song_played == \"eight days a week\"])"
   ]
  },
  {
   "cell_type": "code",
   "execution_count": 40,
   "metadata": {},
   "outputs": [
    {
     "name": "stdout",
     "output_type": "stream",
     "text": [
      "Suggested song after eight days a week is: ['the long and winding road']\n"
     ]
    }
   ],
   "source": [
    "MC_function(\"eight days a week\")"
   ]
  },
  {
   "cell_type": "code",
   "execution_count": 41,
   "metadata": {},
   "outputs": [
    {
     "data": {
      "text/html": [
       "<div>\n",
       "<style scoped>\n",
       "    .dataframe tbody tr th:only-of-type {\n",
       "        vertical-align: middle;\n",
       "    }\n",
       "\n",
       "    .dataframe tbody tr th {\n",
       "        vertical-align: top;\n",
       "    }\n",
       "\n",
       "    .dataframe thead th {\n",
       "        text-align: right;\n",
       "    }\n",
       "</style>\n",
       "<table border=\"1\" class=\"dataframe\">\n",
       "  <thead>\n",
       "    <tr style=\"text-align: right;\">\n",
       "      <th></th>\n",
       "      <th>song_played</th>\n",
       "      <th>next_song</th>\n",
       "      <th>count</th>\n",
       "    </tr>\n",
       "  </thead>\n",
       "  <tbody>\n",
       "    <tr>\n",
       "      <th>13</th>\n",
       "      <td>bad boy</td>\n",
       "      <td>don't let me down</td>\n",
       "      <td>1</td>\n",
       "    </tr>\n",
       "  </tbody>\n",
       "</table>\n",
       "</div>"
      ],
      "text/plain": [
       "   song_played          next_song  count\n",
       "13     bad boy  don't let me down      1"
      ]
     },
     "execution_count": 41,
     "metadata": {},
     "output_type": "execute_result"
    }
   ],
   "source": [
    "#pick a song for which we have one most likely next song\n",
    "data_MC[data_MC.song_played == \"bad boy\"]"
   ]
  },
  {
   "cell_type": "code",
   "execution_count": 42,
   "metadata": {},
   "outputs": [
    {
     "name": "stdout",
     "output_type": "stream",
     "text": [
      "Suggested song after bad boy is: [\"don't let me down\"]\n"
     ]
    }
   ],
   "source": [
    "MC_function(\"bad boy\")"
   ]
  },
  {
   "cell_type": "code",
   "execution_count": 43,
   "metadata": {},
   "outputs": [
    {
     "data": {
      "text/html": [
       "<div>\n",
       "<style scoped>\n",
       "    .dataframe tbody tr th:only-of-type {\n",
       "        vertical-align: middle;\n",
       "    }\n",
       "\n",
       "    .dataframe tbody tr th {\n",
       "        vertical-align: top;\n",
       "    }\n",
       "\n",
       "    .dataframe thead th {\n",
       "        text-align: right;\n",
       "    }\n",
       "</style>\n",
       "<table border=\"1\" class=\"dataframe\">\n",
       "  <thead>\n",
       "    <tr style=\"text-align: right;\">\n",
       "      <th></th>\n",
       "      <th>song_played</th>\n",
       "      <th>next_song</th>\n",
       "      <th>count</th>\n",
       "    </tr>\n",
       "  </thead>\n",
       "  <tbody>\n",
       "    <tr>\n",
       "      <th>28</th>\n",
       "      <td>eleanor rigby</td>\n",
       "      <td>back in the u.s.s.r.</td>\n",
       "      <td>1</td>\n",
       "    </tr>\n",
       "    <tr>\n",
       "      <th>29</th>\n",
       "      <td>eleanor rigby</td>\n",
       "      <td>come together</td>\n",
       "      <td>1</td>\n",
       "    </tr>\n",
       "    <tr>\n",
       "      <th>30</th>\n",
       "      <td>eleanor rigby</td>\n",
       "      <td>here comes the sun</td>\n",
       "      <td>1</td>\n",
       "    </tr>\n",
       "    <tr>\n",
       "      <th>31</th>\n",
       "      <td>eleanor rigby</td>\n",
       "      <td>lucy in the sky with diamonds</td>\n",
       "      <td>1</td>\n",
       "    </tr>\n",
       "  </tbody>\n",
       "</table>\n",
       "</div>"
      ],
      "text/plain": [
       "      song_played                      next_song  count\n",
       "28  eleanor rigby           back in the u.s.s.r.      1\n",
       "29  eleanor rigby                  come together      1\n",
       "30  eleanor rigby             here comes the sun      1\n",
       "31  eleanor rigby  lucy in the sky with diamonds      1"
      ]
     },
     "execution_count": 43,
     "metadata": {},
     "output_type": "execute_result"
    }
   ],
   "source": [
    "#pick a song for which we have multiple most likely next songs\n",
    "data_MC[data_MC.song_played == \"eleanor rigby\"]"
   ]
  },
  {
   "cell_type": "code",
   "execution_count": 44,
   "metadata": {},
   "outputs": [
    {
     "name": "stdout",
     "output_type": "stream",
     "text": [
      "Suggested song after eleanor rigby is: ['here comes the sun']\n"
     ]
    }
   ],
   "source": [
    "MC_function(\"eleanor rigby\")"
   ]
  },
  {
   "cell_type": "code",
   "execution_count": null,
   "metadata": {},
   "outputs": [],
   "source": []
  }
 ],
 "metadata": {
  "kernelspec": {
   "display_name": "Python 3",
   "language": "python",
   "name": "python3"
  },
  "language_info": {
   "codemirror_mode": {
    "name": "ipython",
    "version": 3
   },
   "file_extension": ".py",
   "mimetype": "text/x-python",
   "name": "python",
   "nbconvert_exporter": "python",
   "pygments_lexer": "ipython3",
   "version": "3.7.3"
  }
 },
 "nbformat": 4,
 "nbformat_minor": 2
}
